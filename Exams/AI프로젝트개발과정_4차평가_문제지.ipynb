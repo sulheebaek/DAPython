{
 "cells": [
  {
   "cell_type": "code",
   "execution_count": 1,
   "metadata": {},
   "outputs": [],
   "source": [
    "from pandas import DataFrame, Series\n",
    "import pandas as pd"
   ]
  },
  {
   "cell_type": "markdown",
   "metadata": {},
   "source": [
    "(1) 아래와 같이 DataFrame 객체 df를 'key1'을 기준으로 묶고 그룹 별 범위(최대값 - 최소값)를 구하는 사용자 집계 함수를 적용하라."
   ]
  },
  {
   "cell_type": "code",
   "execution_count": 2,
   "metadata": {},
   "outputs": [],
   "source": [
    "df = DataFrame({'key1':['a', 'a', 'b', 'b', 'a'],\n",
    "               'key2': ['one', 'two', 'one', 'two', 'one'],\n",
    "               'data1': np.random.randn(5),\n",
    "               'data2': np.random.randn(5)})"
   ]
  },
  {
   "cell_type": "markdown",
   "metadata": {},
   "source": [
    "(2) 아래와 같은 DataFrame 객체 frame이 있다.<p>\n",
    "(2-1) frame에서 'data1' 열의 데이터를 4개로 나누어 각 구간을 'data3' 열로 추가하라. <p>\n",
    "(2-2) 구간별 데이터의 빈도를 구하라."
   ]
  },
  {
   "cell_type": "code",
   "execution_count": 6,
   "metadata": {},
   "outputs": [],
   "source": [
    "frame = DataFrame({'data1':np.random.randint(4, size=12),\n",
    "                  'data2':np.random.randint(4, size=12)})"
   ]
  },
  {
   "cell_type": "markdown",
   "metadata": {},
   "source": [
    "(3) 다음과 같은 식당에서 취합한 팁에 관한 데이터셋이 DataFrame 객체 df로 준비되어 있다. \n",
    "(3-1) 팁의 비율('tip'/'total_bill' * 100)을 구하여 'tip_pct' 열로 추가하라. <p>\n",
    "(3-2) 성별('sex')과 흡연여부('smoker') 별로 'tip_pct'와 'size'의 평균을 보이는 피봇 테이블을 생성하라."
   ]
  },
  {
   "cell_type": "code",
   "execution_count": 11,
   "metadata": {},
   "outputs": [],
   "source": [
    "df = pd.read_csv('datasets/tips.csv')"
   ]
  },
  {
   "cell_type": "code",
   "execution_count": 12,
   "metadata": {},
   "outputs": [
    {
     "name": "stdout",
     "output_type": "stream",
     "text": [
      "<class 'pandas.core.frame.DataFrame'>\n",
      "RangeIndex: 244 entries, 0 to 243\n",
      "Data columns (total 7 columns):\n",
      "total_bill    244 non-null float64\n",
      "tip           244 non-null float64\n",
      "sex           244 non-null object\n",
      "smoker        244 non-null object\n",
      "day           244 non-null object\n",
      "time          244 non-null object\n",
      "size          244 non-null int64\n",
      "dtypes: float64(2), int64(1), object(4)\n",
      "memory usage: 13.4+ KB\n"
     ]
    }
   ],
   "source": [
    "df.info()"
   ]
  },
  {
   "cell_type": "markdown",
   "metadata": {},
   "source": [
    "(4) 다음과 같이 2000년 1월 1일을 시작으로 100일의 DateTime 인덱스를 갖는 시계열 데이터 ts가 있다. ts를 월 단위로, 4시간 단위로, 매주 수요일을 기준으로 리샘플링하는 코드를 작성하라."
   ]
  },
  {
   "cell_type": "code",
   "execution_count": 21,
   "metadata": {},
   "outputs": [],
   "source": [
    "rng = pd.date_range('1/1/2000', periods=100, freq='D')\n",
    "ts = Series(randn(len(rng)), index=rng)"
   ]
  },
  {
   "cell_type": "markdown",
   "metadata": {},
   "source": [
    "(5) 아래의 시계열 데이터 ts를 월별로 그룹핑하고 월별 데이터의 평균을 구하라."
   ]
  },
  {
   "cell_type": "code",
   "execution_count": 26,
   "metadata": {},
   "outputs": [],
   "source": [
    "rng = pd.date_range('1/1/2000', periods=100, freq='D')\n",
    "ts = Series(randn(len(rng)), index=rng)"
   ]
  },
  {
   "cell_type": "markdown",
   "metadata": {},
   "source": [
    "(6) 아래와 같이 애플의 2012년 5월 주가를 포함하는 데이터셋 px가 있을 때 일간 수익률('pct_change')과 매일 배당금이 지급되고 배당금이 재투자 되었다는 가정 하에 수익지수('return_indices')를 구하여 DataFrame의 새로운 열로 추가하라."
   ]
  },
  {
   "cell_type": "code",
   "execution_count": 114,
   "metadata": {},
   "outputs": [],
   "source": [
    "px = pd.read_pickle('datasets/yahoo_price.pkl')[['AAPL']]['2012-05']"
   ]
  },
  {
   "cell_type": "markdown",
   "metadata": {},
   "source": [
    "(7) 다음과 같이 몇몇 종목의 주가 데이터를 포함하는 px가 있다. 이 중 애플사의 주가데이터를 aapl에, 그리고 마이크로소프트사의 주가데이터를 msft로 준비하였다. <p> 이 두 종목 사이의 이동 상관관계를 구하라.  윈도우 사이즈는 100으로 설정한 경우와 250으로 설정한 경우를 함께 플롯하라."
   ]
  },
  {
   "cell_type": "code",
   "execution_count": null,
   "metadata": {},
   "outputs": [],
   "source": [
    "px = pd.read_pickle('datasets/yahoo_price.pkl')\n",
    "\n",
    "aapl = px.AAPL\n",
    "msft = px.MSFT"
   ]
  },
  {
   "cell_type": "markdown",
   "metadata": {},
   "source": [
    "(8) 다음에 주어진 10개의 요소를 1차원 배열 arr을 inds의 인덱스 순서대로 색인한 객체 new_arr을 생성하라."
   ]
  },
  {
   "cell_type": "code",
   "execution_count": 71,
   "metadata": {},
   "outputs": [],
   "source": [
    "arr = arange(10) * 100\n",
    "inds = [7, 1, 2, 6]"
   ]
  },
  {
   "cell_type": "markdown",
   "metadata": {},
   "source": [
    "(9) 다음과 같은 3차원 배열 arr이 있을 때 arr에서 arr_desum을 뺀 값을 구하려 한다. 이때 브로드캐스팅을 이용한 뺄셈 연산이 가능하도록 arr_desum을 변경하라.  "
   ]
  },
  {
   "cell_type": "code",
   "execution_count": 82,
   "metadata": {},
   "outputs": [
    {
     "data": {
      "text/plain": [
       "array([[3., 3., 3., 3.],\n",
       "       [3., 3., 3., 3.]])"
      ]
     },
     "execution_count": 82,
     "metadata": {},
     "output_type": "execute_result"
    }
   ],
   "source": [
    "arr = np.ones((2, 3, 4))\n",
    "arr_desum = arr.sum(1)"
   ]
  },
  {
   "cell_type": "markdown",
   "metadata": {},
   "source": [
    "(10) datetime.datetime.now() 메소드를 이용하여 현재 시각을 구하고 이를 '2018-06-25'와 같은 형식으로 표준출력에 표시하라."
   ]
  }
 ],
 "metadata": {
  "kernelspec": {
   "display_name": "Python 3",
   "language": "python",
   "name": "python3"
  },
  "language_info": {
   "codemirror_mode": {
    "name": "ipython",
    "version": 3
   },
   "file_extension": ".py",
   "mimetype": "text/x-python",
   "name": "python",
   "nbconvert_exporter": "python",
   "pygments_lexer": "ipython3",
   "version": "3.6.4"
  }
 },
 "nbformat": 4,
 "nbformat_minor": 2
}
