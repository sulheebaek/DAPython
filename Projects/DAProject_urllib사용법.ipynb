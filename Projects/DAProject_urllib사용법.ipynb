{
 "cells": [
  {
   "cell_type": "code",
   "execution_count": 1,
   "metadata": {},
   "outputs": [
    {
     "name": "stdout",
     "output_type": "stream",
     "text": [
      "b'<OpenAPI_ServiceResponse>\\n\\t<cmmMsgHeader>\\n\\t\\t<errMsg>SERVICE ERROR</errMsg>\\n\\t\\t<returnAuthMsg>SERVICE_KEY_IS_NOT_REGISTERED_ERROR</returnAuthMsg>\\n\\t\\t<returnReasonCode>30</returnReasonCode>\\n\\t</cmmMsgHeader>\\n</OpenAPI_ServiceResponse>'\n"
     ]
    }
   ],
   "source": [
    "# Python 샘플 코드 #\n",
    "\n",
    "from urllib.parse import urlencode, quote_plus\n",
    "from urllib.request import urlopen, Request\n",
    "\n",
    "url = 'http://apis.data.go.kr/B553077/api/open/sdsc/storeListInUpjong'\n",
    "\n",
    "queryParams = '?' + urlencode({ quote_plus('ServiceKey') : 'E8xiQppEFpHCy6UWZOlkmPeF7Hf5jAO1hFjEIvTfSHivekpdEawrSRTf2H1QJBbP7BkfnyGiH1HlK%2FfrpN99dA%3D%3D', \n",
    "                               quote_plus('divId') : 'indsLclsCd'\n",
    "                              })\n",
    "\n",
    "request = Request(url + queryParams)\n",
    "request.get_method = lambda: 'GET'\n",
    "response_body = urlopen(request).read()\n",
    "print (response_body)"
   ]
  }
 ],
 "metadata": {
  "kernelspec": {
   "display_name": "Python 3",
   "language": "python",
   "name": "python3"
  },
  "language_info": {
   "codemirror_mode": {
    "name": "ipython",
    "version": 3
   },
   "file_extension": ".py",
   "mimetype": "text/x-python",
   "name": "python",
   "nbconvert_exporter": "python",
   "pygments_lexer": "ipython3",
   "version": "3.6.4"
  }
 },
 "nbformat": 4,
 "nbformat_minor": 2
}
